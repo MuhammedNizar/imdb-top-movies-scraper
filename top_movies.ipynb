{
 "cells": [
  {
   "cell_type": "markdown",
   "metadata": {},
   "source": [
    "Setup and Imports"
   ]
  },
  {
   "cell_type": "code",
   "execution_count": null,
   "metadata": {},
   "outputs": [],
   "source": [
    "# setup_and_imports.py\n",
    "!pip install xlwt\n",
    "import requests\n",
    "import lxml\n",
    "from bs4 import BeautifulSoup\n",
    "from xlwt import Workbook\n"
   ]
  },
  {
   "cell_type": "markdown",
   "metadata": {},
   "source": [
    "Creating the Worksheet"
   ]
  },
  {
   "cell_type": "code",
   "execution_count": null,
   "metadata": {},
   "outputs": [],
   "source": [
    "# create_worksheet.py\n",
    "from xlwt import Workbook\n",
    "\n",
    "def create_worksheet():\n",
    "    workbook = Workbook(encoding='utf-8')\n",
    "    table = workbook.add_sheet('data')\n",
    "    table.write(0, 0, 'Number')\n",
    "    table.write(0, 1, 'movie_url')\n",
    "    table.write(0, 2, 'movie_name')\n",
    "    table.write(0, 3, 'movie_introduction')\n",
    "    return workbook, table\n",
    "\n",
    "workbook, table = create_worksheet()\n"
   ]
  },
  {
   "cell_type": "markdown",
   "metadata": {},
   "source": [
    "Fetching the Movie URLs"
   ]
  },
  {
   "cell_type": "code",
   "execution_count": null,
   "metadata": {},
   "outputs": [],
   "source": [
    "# fetch_movie_urls.py\n",
    "import requests\n",
    "from bs4 import BeautifulSoup\n",
    "\n",
    "def fetch_movie_urls(url, headers):\n",
    "    f = requests.get(url, headers=headers)\n",
    "    soup = BeautifulSoup(f.content, 'lxml')\n",
    "    movies_lst = []\n",
    "\n",
    "    # Check if the table is found, and handle the case where it's not\n",
    "    table_element = soup.find('table', {'class': 'chart full-width'})\n",
    "    if table_element:\n",
    "        movies = table_element.find_all('td', {'class': 'titleColumn'})\n",
    "        links = [movie.find_all('a') for movie in movies]\n",
    "        return ['https://www.imdb.com' + anchor[0]['href'] for anchor in links]\n",
    "    else:\n",
    "        print(\"Table with class 'chart full-width' not found. Check the website structure.\")\n",
    "        return []\n",
    "\n",
    "url = \"https://www.imdb.com/chart/top/\"\n",
    "headers = {\n",
    "    'User-Agent': 'Mozilla/5.0 (Windows NT 6.1; WOW64) AppleWebKit/537.36 (KHTML, like Gecko) Chrome/63.0.3239.132 Safari/537.36 QIHU 360SE'\n",
    "}\n",
    "\n",
    "movie_urls = fetch_movie_urls(url, headers)\n"
   ]
  },
  {
   "cell_type": "markdown",
   "metadata": {},
   "source": [
    "Fetching Movie Details"
   ]
  },
  {
   "cell_type": "code",
   "execution_count": null,
   "metadata": {},
   "outputs": [],
   "source": [
    "# fetch_movie_details.py\n",
    "import requests\n",
    "from bs4 import BeautifulSoup\n",
    "\n",
    "def fetch_movie_details(url, headers):\n",
    "    movie_f = requests.get(url, headers=headers)\n",
    "    movie_soup = BeautifulSoup(movie_f.content, 'lxml')\n",
    "    movie_content = movie_soup.find('span', {'data-testid': 'plot-xl'})\n",
    "    movie_name = movie_soup.find('div', {'class': 'sc-80d4314-1 fbQftq'}).find_all('h1')\n",
    "    if movie_content and movie_name:\n",
    "        return movie_name[0].string.strip(), movie_content.string\n",
    "    else:\n",
    "        return None, None\n",
    "\n",
    "headers = {\n",
    "    'User-Agent': 'Mozilla/5.0 (Windows NT 6.1; WOW64) AppleWebKit/537.36 (KHTML, like Gecko) Chrome/63.0.3239.132 Safari/537.36 QIHU 360SE'\n",
    "}\n",
    "\n",
    "# Example usage\n",
    "url = 'https://www.imdb.com/title/tt0111161/'\n",
    "movie_name, movie_content = fetch_movie_details(url, headers)\n",
    "if movie_name and movie_content:\n",
    "    print(f\"Movie: {movie_name}\\nIntroduction: {movie_content}\")\n"
   ]
  },
  {
   "cell_type": "markdown",
   "metadata": {},
   "source": [
    "Main Script"
   ]
  },
  {
   "cell_type": "code",
   "execution_count": null,
   "metadata": {},
   "outputs": [],
   "source": [
    "# main.py\n",
    "from create_worksheet import create_worksheet\n",
    "from fetch_movie_urls import fetch_movie_urls\n",
    "from fetch_movie_details import fetch_movie_details\n",
    "\n",
    "url = \"https://www.imdb.com/chart/top/\"\n",
    "headers = {\n",
    "    'User-Agent': 'Mozilla/5.0 (Windows NT 6.1; WOW64) AppleWebKit/537.36 (KHTML, like Gecko) Chrome/63.0.3239.132 Safari/537.36 QIHU 360SE'\n",
    "}\n",
    "\n",
    "workbook, table = create_worksheet()\n",
    "movie_urls = fetch_movie_urls(url, headers)\n",
    "line = 1\n",
    "\n",
    "for num, movie_url in enumerate(movie_urls, start=1):\n",
    "    movie_name, movie_content = fetch_movie_details(movie_url, headers)\n",
    "    if movie_name and movie_content:\n",
    "        print(num, movie_url, '\\n', 'Movie:' + movie_name)\n",
    "        print(movie_content.strip())\n",
    "        print('Movie info:' + movie_content)\n",
    "\n",
    "        # Writing into the worksheet table\n",
    "        table.write(line, 0, num)\n",
    "        table.write(line, 1, movie_url)\n",
    "        table.write(line, 2, movie_name)\n",
    "        table.write(line, 3, movie_content)\n",
    "        line += 1\n",
    "\n",
    "workbook.save('topIMDBMovies.xls')\n"
   ]
  }
 ],
 "metadata": {
  "language_info": {
   "name": "python"
  }
 },
 "nbformat": 4,
 "nbformat_minor": 2
}
